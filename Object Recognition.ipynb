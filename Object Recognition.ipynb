{
 "cells": [
  {
   "cell_type": "code",
   "execution_count": 1,
   "metadata": {
    "collapsed": false
   },
   "outputs": [
    {
     "name": "stderr",
     "output_type": "stream",
     "text": [
      "Using TensorFlow backend.\n"
     ]
    }
   ],
   "source": [
    "import cv2\n",
    "import os\n",
    "import numpy as np\n",
    "import shutil\n",
    "from sklearn.preprocessing import LabelEncoder\n",
    "from sklearn.model_selection import train_test_split\n",
    "from sklearn.metrics import confusion_matrix\n",
    "from keras.utils import np_utils\n",
    "from keras.models import Sequential\n",
    "from keras.layers import Dense\n",
    "from keras.layers import Dropout\n",
    "from keras.layers import Flatten\n",
    "from keras.layers.convolutional import Conv2D\n",
    "from keras.layers.convolutional import MaxPooling2D\n",
    "from keras.callbacks import ModelCheckpoint\n",
    "from matplotlib import pyplot as plt"
   ]
  },
  {
   "cell_type": "markdown",
   "metadata": {},
   "source": [
    "### Creating Data"
   ]
  },
  {
   "cell_type": "code",
   "execution_count": 2,
   "metadata": {
    "collapsed": true
   },
   "outputs": [],
   "source": [
    "os.chdir(os.path.dirname(os.path.abspath('object_recognition.ipynb')))"
   ]
  },
  {
   "cell_type": "code",
   "execution_count": 3,
   "metadata": {
    "collapsed": true
   },
   "outputs": [],
   "source": [
    "## Delete classes from last run of script to set up the new run of the script\n",
    "shutil.rmtree('./create_classes')\n",
    "os.makedirs('./create_classes')"
   ]
  },
  {
   "cell_type": "code",
   "execution_count": 5,
   "metadata": {
    "collapsed": true
   },
   "outputs": [],
   "source": [
    "## Find all videos\n",
    "classes = os.listdir('./input_video')\n",
    "classes = [v.replace('.MOV', '') for v in classes]\n",
    "classes.remove('.DS_Store')"
   ]
  },
  {
   "cell_type": "code",
   "execution_count": 6,
   "metadata": {
    "collapsed": false
   },
   "outputs": [],
   "source": [
    "## Create folders for the pictures which are extracted from every video\n",
    "## Every video/folder represent one class\n",
    "for i in classes: os.makedirs('./create_classes/%s' %i)"
   ]
  },
  {
   "cell_type": "code",
   "execution_count": 7,
   "metadata": {
    "collapsed": false
   },
   "outputs": [
    {
     "name": "stdout",
     "output_type": "stream",
     "text": [
      "Item 1: Added to data\n",
      "Item 2: Added to data\n",
      "Item 4: Added to data\n"
     ]
    }
   ],
   "source": [
    "## Extract pictures from videos and insert them into the prepared folders.\n",
    "## We end up with one folder per class, filled with pictures from the respective video\n",
    "for i in classes:\n",
    "    vidcap = cv2.VideoCapture('input_video/%s.MOV' %i)\n",
    "    num_frames=int(vidcap.get(cv2.CAP_PROP_FRAME_COUNT))-1\n",
    "    length = int(vidcap.get(cv2.CAP_PROP_FRAME_COUNT))\n",
    "    used_frames=np.unique(np.linspace(1, length, num=num_frames).astype(int))\n",
    "    success,image = vidcap.read()\n",
    "    if success: print(i+': Added to data')\n",
    "    count = 0\n",
    "    success = True\n",
    "    while success:\n",
    "     success,image = vidcap.read()\n",
    "     if count in used_frames:\n",
    "       cv2.imwrite('create_classes/'+str(i)+'/frame %s.jpg' %count, image)\n",
    "     count += 1\n",
    "     "
   ]
  },
  {
   "cell_type": "markdown",
   "metadata": {},
   "source": [
    "### Create X_train and y_train"
   ]
  },
  {
   "cell_type": "code",
   "execution_count": 8,
   "metadata": {
    "collapsed": false
   },
   "outputs": [],
   "source": [
    "## We now have a folder for every class. The folders are filled with pictures from the respective videos.\n",
    "## In this step we load the pictures as individual arrays into a list named X_train\n",
    "## At the same time we create a list which is named y_train. Contains the labels for each picture.\n",
    "## Label is taken from folder name.\n",
    "X_train=list()\n",
    "y_train=list()\n",
    "for i in classes:\n",
    "  pic_list=os.listdir('./create_classes/%s' %i)\n",
    "  for pic in pic_list:\n",
    "   path='./create_classes/'+i+'/'+pic\n",
    "   pic=cv2.imread(path,1)\n",
    "   pic=cv2.cvtColor(pic, cv2.COLOR_BGR2RGB)\n",
    "   X_train.append(pic)\n",
    "   y_train.append(i)"
   ]
  },
  {
   "cell_type": "code",
   "execution_count": 9,
   "metadata": {
    "collapsed": false
   },
   "outputs": [],
   "source": [
    "## Concatenating the lists into numpy arrays \n",
    "X_train=np.stack(X_train, axis=0)\n",
    "y_train=np.stack(y_train, axis=0)"
   ]
  },
  {
   "cell_type": "code",
   "execution_count": 10,
   "metadata": {
    "collapsed": true
   },
   "outputs": [],
   "source": [
    "## Encode class values as integers and apply one hot encoding\n",
    "## This is necessary to feed the data to keras\n",
    "encoder = LabelEncoder()\n",
    "encoder.fit(y_train)\n",
    "encoded_Y = encoder.transform(y_train)\n",
    "y_train = np_utils.to_categorical(encoded_Y)"
   ]
  },
  {
   "cell_type": "code",
   "execution_count": 12,
   "metadata": {
    "collapsed": false
   },
   "outputs": [],
   "source": [
    "## Create Models\n",
    "num_classes = y_train.shape[1]\n",
    "## num_pixels = X_train.shape[1] * X_train.shape[2]"
   ]
  },
  {
   "cell_type": "code",
   "execution_count": 13,
   "metadata": {
    "collapsed": false
   },
   "outputs": [],
   "source": [
    "## Reshape X_train to comply with keras convention\n",
    "X_train = X_train.reshape(X_train.shape[0], X_train.shape[1], X_train.shape[2],3).astype('float32')"
   ]
  },
  {
   "cell_type": "code",
   "execution_count": 14,
   "metadata": {
    "collapsed": false
   },
   "outputs": [],
   "source": [
    "## Normalize inputs from 0-255 to 0-1\n",
    "X_train = X_train / 255"
   ]
  },
  {
   "cell_type": "code",
   "execution_count": 15,
   "metadata": {
    "collapsed": false
   },
   "outputs": [],
   "source": [
    "## Split into test and training set\n",
    "X_train, X_test, y_train, y_test = train_test_split(X_train, y_train, test_size=0.33, random_state=42)"
   ]
  },
  {
   "cell_type": "markdown",
   "metadata": {},
   "source": [
    "### Model"
   ]
  },
  {
   "cell_type": "code",
   "execution_count": 16,
   "metadata": {
    "collapsed": true
   },
   "outputs": [],
   "source": [
    "## Define model\n",
    "model = Sequential()\n",
    "model.add(Conv2D(30, (5, 5), input_shape=(320, 568,3), activation='relu'))\n",
    "model.add(MaxPooling2D(pool_size=(2, 2)))\n",
    "model.add(Conv2D(15, (3, 3), activation='relu'))\n",
    "model.add(Conv2D(15, (3, 3), activation='relu'))\n",
    "model.add(MaxPooling2D(pool_size=(2, 2)))\n",
    "model.add(Dropout(0.2))\n",
    "model.add(Flatten())\n",
    "model.add(Dense(320, activation='relu'))\n",
    "model.add(Dense(160, activation='relu'))\n",
    "model.add(Dense(80, activation='relu'))\n",
    "model.add(Dense(num_classes, activation='softmax'))\n",
    "# Compile model\n",
    "model.compile(loss='categorical_crossentropy', optimizer='adam', metrics=['accuracy'])\n",
    "# Add checkpoint\n",
    "mcp = ModelCheckpoint(filepath='best_val_acc_weights.hdf5', monitor=\"val_acc\",save_best_only=True, save_weights_only=False)"
   ]
  },
  {
   "cell_type": "code",
   "execution_count": 17,
   "metadata": {
    "collapsed": false
   },
   "outputs": [
    {
     "name": "stdout",
     "output_type": "stream",
     "text": [
      "Train on 1250 samples, validate on 617 samples\n",
      "Epoch 1/10\n",
      "396s - loss: 1.5262 - acc: 0.4456 - val_loss: 0.7241 - val_acc: 0.7407\n",
      "Epoch 2/10\n",
      "398s - loss: 0.3470 - acc: 0.8720 - val_loss: 0.2520 - val_acc: 0.9335\n",
      "Epoch 3/10\n",
      "393s - loss: 0.1181 - acc: 0.9648 - val_loss: 0.0143 - val_acc: 0.9984\n",
      "Epoch 4/10\n",
      "395s - loss: 0.0053 - acc: 0.9992 - val_loss: 0.0011 - val_acc: 1.0000\n",
      "Epoch 5/10\n",
      "386s - loss: 5.4838e-04 - acc: 1.0000 - val_loss: 3.1167e-04 - val_acc: 1.0000\n",
      "Epoch 6/10\n",
      "381s - loss: 1.6868e-04 - acc: 1.0000 - val_loss: 1.5605e-04 - val_acc: 1.0000\n",
      "Epoch 7/10\n",
      "389s - loss: 1.0852e-04 - acc: 1.0000 - val_loss: 1.1586e-04 - val_acc: 1.0000\n",
      "Epoch 8/10\n",
      "378s - loss: 7.4928e-05 - acc: 1.0000 - val_loss: 7.8103e-05 - val_acc: 1.0000\n",
      "Epoch 9/10\n",
      "382s - loss: 5.1584e-05 - acc: 1.0000 - val_loss: 6.4439e-05 - val_acc: 1.0000\n",
      "Epoch 10/10\n",
      "376s - loss: 4.0000e-05 - acc: 1.0000 - val_loss: 4.9232e-05 - val_acc: 1.0000\n"
     ]
    }
   ],
   "source": [
    "## train model and save the weights of the epoch with the highest validation accuracy (important!)\n",
    "history=model.fit(X_train, y_train, validation_data=(X_test, y_test), epochs=10, batch_size=50, verbose=2, callbacks=[mcp])"
   ]
  },
  {
   "cell_type": "code",
   "execution_count": 18,
   "metadata": {
    "collapsed": false
   },
   "outputs": [
    {
     "name": "stdout",
     "output_type": "stream",
     "text": [
      "_________________________________________________________________\n",
      "Layer (type)                 Output Shape              Param #   \n",
      "=================================================================\n",
      "conv2d_1 (Conv2D)            (None, 316, 564, 30)      2280      \n",
      "_________________________________________________________________\n",
      "max_pooling2d_1 (MaxPooling2 (None, 158, 282, 30)      0         \n",
      "_________________________________________________________________\n",
      "conv2d_2 (Conv2D)            (None, 156, 280, 15)      4065      \n",
      "_________________________________________________________________\n",
      "conv2d_3 (Conv2D)            (None, 154, 278, 15)      2040      \n",
      "_________________________________________________________________\n",
      "max_pooling2d_2 (MaxPooling2 (None, 77, 139, 15)       0         \n",
      "_________________________________________________________________\n",
      "dropout_1 (Dropout)          (None, 77, 139, 15)       0         \n",
      "_________________________________________________________________\n",
      "flatten_1 (Flatten)          (None, 160545)            0         \n",
      "_________________________________________________________________\n",
      "dense_1 (Dense)              (None, 320)               51374720  \n",
      "_________________________________________________________________\n",
      "dense_2 (Dense)              (None, 160)               51360     \n",
      "_________________________________________________________________\n",
      "dense_3 (Dense)              (None, 80)                12880     \n",
      "_________________________________________________________________\n",
      "dense_4 (Dense)              (None, 3)                 243       \n",
      "=================================================================\n",
      "Total params: 51,447,588.0\n",
      "Trainable params: 51,447,588.0\n",
      "Non-trainable params: 0.0\n",
      "_________________________________________________________________\n"
     ]
    }
   ],
   "source": [
    "## Summarize model\n",
    "model.summary()"
   ]
  },
  {
   "cell_type": "code",
   "execution_count": 18,
   "metadata": {
    "collapsed": false
   },
   "outputs": [],
   "source": [
    "## ONLY USE IF LAST EPOCH IS NOT YOUR PREFERRED MODEL\n",
    "## load weights with heighest val_acc\n",
    "model.load_weights('best_val_acc_weights.hdf5')"
   ]
  },
  {
   "cell_type": "markdown",
   "metadata": {},
   "source": [
    "### Evaluate Model"
   ]
  },
  {
   "cell_type": "code",
   "execution_count": 19,
   "metadata": {
    "collapsed": false
   },
   "outputs": [
    {
     "name": "stdout",
     "output_type": "stream",
     "text": [
      "Baseline Error: 0.00%\n"
     ]
    }
   ],
   "source": [
    "## Baseline Model for epoch with highest val_acc\n",
    "scores = model.evaluate(X_train, y_train, verbose=0)\n",
    "print(\"Baseline Error: %.2f%%\" % (100-scores[1]*100))"
   ]
  },
  {
   "cell_type": "code",
   "execution_count": 20,
   "metadata": {
    "collapsed": false
   },
   "outputs": [
    {
     "data": {
      "image/png": "[encoded data removed]",
      "text/plain": [
       "<matplotlib.figure.Figure at 0x11ff5b518>"
      ]
     },
     "metadata": {},
     "output_type": "display_data"
    },
    {
     "data": {
      "image/png": "[encoded data removed]",
      "text/plain": [
       "<matplotlib.figure.Figure at 0x1203c17f0>"
      ]
     },
     "metadata": {},
     "output_type": "display_data"
    }
   ],
   "source": [
    "## http://machinelearningmastery.com/display-deep-learning-model-training-history-in-keras/\n",
    "## summarize history for accuracy\n",
    "plt.plot(history.history['acc'])\n",
    "plt.plot(history.history['val_acc'])\n",
    "plt.title('model accuracy')\n",
    "plt.ylabel('accuracy')\n",
    "plt.xlabel('epoch')\n",
    "plt.legend(['train', 'test'], loc='upper left')\n",
    "plt.show()\n",
    "## summarize history for loss\n",
    "plt.plot(history.history['loss'])\n",
    "plt.plot(history.history['val_loss'])\n",
    "plt.title('model loss')\n",
    "plt.ylabel('loss')\n",
    "plt.xlabel('epoch')\n",
    "plt.legend(['train', 'test'], loc='upper left')\n",
    "plt.show()"
   ]
  },
  {
   "cell_type": "code",
   "execution_count": 31,
   "metadata": {
    "collapsed": false
   },
   "outputs": [
    {
     "name": "stdout",
     "output_type": "stream",
     "text": [
      "617/617 [==============================] - 52s     \b\b\b\b\b\b\b\b\b\b\b\b\b\b\b\b\b\b\b\b\b\b\b\b\b\b\b\b\b\b\b\b\b\b\b\b\b\b\b\b\b\b\b\b\b\b\b\b\b\b\b\b\b\b\b\b\b\b\b\b\b\b\b\b\b\b\b\b\b\b\b\b\b\b\b\b\b\b\b\b\b\b\b\b\b\b\b\b\b\b\b\b\b\b\b\b\b\b\b\b\b\b\b\b\b\b\b\b\b\b\b\b\b\b\b\b\b\b\b\b\b\b\b\b\b\b\b\b\b\b\b\b\b\b\b\b\b\b\b\b\b\b\b\b\b\b\b\b\b\b\b\b\b\b\b\b\b\b\b\b\b\b\b\b\b\b\b\b\b\b\b\b\b\b\b\b\b\b\b\b\b\b\b\b\b\b\b\b\b\b\b\b\b\b\b\b\b\b\b\b\b\b\b\b\b\b\b\b\b\b\b\b\b\b\b\b\b\b\b\b\b\b\b\b\b\b\b\b\b\b\b\b\b\b\b\b\b\b\b\b\b\b\b\b\b\b\b\b\b\b\b\b\b\b\b\b\b\b\b\b\b\b\b\b\b\b\b\b\b\b\b\b\b\b\b\b\b\b\b\b\b\b\b\b\b\b\b\b\b\b\b\b\b\b\b\b\b\b\b\b\b\b\b\b\b\b\b\b\b\b\b\b\b\b\b\b\b\b\b\b\b\b\b\b\b\b\b\b\b\b\b\b\b\b\b\b\b\b\b\b\b\b\b\b\b\b\b\b\b\b\b\b\b\b\b\b\b\b\b\b\b\b\b\b\b\b\b\b\b\b\b\b\b\b\b\b\b\b\b\b\b\b\b\b\b\b\b\b\b\b\b\b\b\b\b\b\b\b\b\b\b\b\b\b\b\b\b\b\b\b\b\b\b\b\b\b\b\b\b\b\b\b\b\b\b\b\b\b\b\b\b\b\b\b\b\b\b\b\b\b\b\b\b\b\b\b\b\b\b\b\b\b\b\b\b\b\b\b\b\b\b\b\b\b\b\b\b\b\b\b\b\b\b\b\b\b\b\b\b\b\b\b\b\b\b\b\b\b\b\b\b\b\b\b\b\b\b\b\b\b\b\b\b\b\b\b\b\b\b\b\b\b\b\b\b\b\b\b\b\b\b\b\b\b\b\b\b\b\b\b\b\b\b\b\b\b\b\b\b\b\b\b\b\b\b\b\b\b\b\b\b\b\b\b\b\b\b\b\b\b\b\b\b\b\b\b\b\b\b\b\b\b\b\b\b\b\b\b\b\b\b\b\b\b\b\b\b\b\b\b\b\b\b\b\b\b\b\b\b\b\b\b\b\b\b\b\b\b\b\b\b\b\b\b\b\b\b\b\b\b\b\b\b\b\b\b\b\b\b\b\b\b\b\b\b\b\b\b\b\b\b\b\b\b\b\b\b\b\b\b\b\b\b\b\b\b\b\b\b\b\b\b\b\b\b\b\b\b\b\b\b\b\b\b\b\b\b\b\b\b\b\b\b\b\b\b\b\b\b\b\b\b\b\b\b\b\b\b\b\b\b\b\b\b\b\b\b\b\b\b\b\b\b\b\b\b\b\b\b\b\b\b\b\b\b\b\b\b\b\b\b\b\b\b\b\b\b\b\b\b\b\b\b\b\b\b\b\b\b\b\b\b\b\b\b\b\b\b\b\b\b\b\b\b\b\b\b\b\b\b\b\b\b\b\b\b\b\b\b\b\b\b\b\b\b\b\b\b\b\b\b\b\b\b\b\b\b\b\b\b\b\b\b\b\b\b\b\b\b\b\b\b\b\b\b\b\b\b\b\b\b\b\b\b\b\b\b\b\b\b\b\b\b\b\b\b\b\b\b\b\b\b\b\b\b\b\b\b\b\b\b\b\b\b\b\b\b\b\b\b\b\b\b\b\b\b\b\b\b\b\b\b\b\b\b\b\b\b\b\b\b\b\b\b\b\b\b\b\b\b\b\b\b\b\b\b\b\b\b\b\b\b\b\b\b\b\b\b\b\b\b\b\b\b\b\b\b\b\b\b\b\b\b\b\b\b\b\b\b\b\b\b\b\b\b\b\b\b\b\b\b\b\b\b\b\b\b\b\b\b\b\b\b\b\b\b\b\b\b\b\b\b\b\b\b\n"
     ]
    }
   ],
   "source": [
    "## Predict on X_test\n",
    "y_pred=model.predict_classes(X_test, batch_size=32, verbose=1)"
   ]
  },
  {
   "cell_type": "code",
   "execution_count": 111,
   "metadata": {
    "collapsed": true
   },
   "outputs": [],
   "source": [
    "## reverse one-hot-encoding for y_test for use in confusion-matrix\n",
    "x1 = np.arange(num_classes)\n",
    "x2=np.multiply(y_test, x1)\n",
    "y_test_no_hot=np.sum(x2,axis=1)"
   ]
  },
  {
   "cell_type": "code",
   "execution_count": 112,
   "metadata": {
    "collapsed": false
   },
   "outputs": [
    {
     "data": {
      "text/plain": [
       "array([[198,   0,   0],\n",
       "       [  0, 208,   0],\n",
       "       [  0,   0, 211]])"
      ]
     },
     "execution_count": 112,
     "metadata": {},
     "output_type": "execute_result"
    }
   ],
   "source": [
    "## Plot confusion matrix\n",
    "confusion_matrix(y_test_no_hot,y_pred)"
   ]
  }
 ],
 "metadata": {
  "kernelspec": {
   "display_name": "Python 3",
   "language": "python",
   "name": "python3"
  },
  "language_info": {
   "codemirror_mode": {
    "name": "ipython",
    "version": 3
   },
   "file_extension": ".py",
   "mimetype": "text/x-python",
   "name": "python",
   "nbconvert_exporter": "python",
   "pygments_lexer": "ipython3",
   "version": "3.6.0"
  }
 },
 "nbformat": 4,
 "nbformat_minor": 2
}
